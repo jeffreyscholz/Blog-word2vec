{
 "cells": [
  {
   "cell_type": "markdown",
   "metadata": {},
   "source": [
    "## Download word2vec pretrained vectors"
   ]
  },
  {
   "cell_type": "code",
   "execution_count": 1,
   "metadata": {
    "scrolled": false
   },
   "outputs": [
    {
     "name": "stdout",
     "output_type": "stream",
     "text": [
      "CPU times: user 41.1 s, sys: 4.13 s, total: 45.2 s\n",
      "Wall time: 46.6 s\n"
     ]
    }
   ],
   "source": [
    "%%time\n",
    "import gensim.downloader as api\n",
    "\n",
    "model = api.load('word2vec-google-news-300')"
   ]
  },
  {
   "cell_type": "markdown",
   "metadata": {},
   "source": [
    "### A word is represented as a 300 dimensional vector"
   ]
  },
  {
   "cell_type": "code",
   "execution_count": 2,
   "metadata": {},
   "outputs": [
    {
     "data": {
      "text/plain": [
       "(300,)"
      ]
     },
     "execution_count": 2,
     "metadata": {},
     "output_type": "execute_result"
    }
   ],
   "source": [
    "model['delicious'].shape"
   ]
  },
  {
   "cell_type": "code",
   "execution_count": 3,
   "metadata": {},
   "outputs": [
    {
     "data": {
      "text/plain": [
       "array([-0.18164062, -0.1328125 ,  0.0390625 ,  0.31445312,  0.01806641,\n",
       "        0.09179688,  0.19140625,  0.02722168, -0.18359375,  0.30664062,\n",
       "       -0.20605469, -0.14550781,  0.09130859,  0.02185059,  0.03540039,\n",
       "        0.38085938,  0.06494141, -0.06884766,  0.02490234,  0.05151367,\n",
       "        0.0213623 ,  0.30859375,  0.25976562,  0.00744629,  0.0222168 ,\n",
       "       -0.29882812, -0.03125   ,  0.17578125, -0.03637695,  0.02099609,\n",
       "       -0.11523438,  0.00415039,  0.22558594,  0.171875  , -0.19433594,\n",
       "        0.01647949,  0.24902344, -0.29296875, -0.03930664,  0.24316406,\n",
       "        0.05126953, -0.17382812,  0.08789062, -0.08203125,  0.02941895,\n",
       "       -0.29101562, -0.05224609,  0.37890625,  0.16113281,  0.17480469,\n",
       "       -0.04370117,  0.19628906,  0.01696777,  0.12207031, -0.18554688,\n",
       "       -0.05834961,  0.15917969, -0.17773438, -0.11767578, -0.14453125,\n",
       "       -0.17480469,  0.11669922, -0.09863281,  0.03088379,  0.20117188,\n",
       "       -0.20507812, -0.0859375 , -0.3515625 ,  0.03295898,  0.10351562,\n",
       "        0.41992188, -0.01721191,  0.02819824, -0.07373047,  0.07861328,\n",
       "       -0.10058594, -0.421875  ,  0.08447266,  0.08154297,  0.0135498 ,\n",
       "       -0.22460938, -0.02734375,  0.01062012,  0.00253296, -0.12792969,\n",
       "       -0.19726562, -0.20898438,  0.265625  , -0.12792969, -0.04052734,\n",
       "       -0.09619141, -0.30078125, -0.16699219,  0.14648438, -0.265625  ,\n",
       "       -0.05615234, -0.03833008,  0.08886719, -0.01806641, -0.18652344,\n",
       "       -0.22949219,  0.19921875,  0.0402832 ,  0.12890625, -0.03393555,\n",
       "       -0.17382812,  0.27148438, -0.01867676,  0.03222656, -0.22851562,\n",
       "       -0.23925781,  0.12109375, -0.13671875, -0.11425781,  0.17382812,\n",
       "       -0.13183594,  0.2265625 , -0.14941406, -0.15136719, -0.11425781,\n",
       "        0.046875  , -0.05517578,  0.15820312, -0.12988281, -0.03759766,\n",
       "        0.31835938, -0.3515625 ,  0.03466797, -0.06494141,  0.171875  ,\n",
       "       -0.40429688,  0.36523438, -0.01556396,  0.17675781, -0.1640625 ,\n",
       "        0.27148438,  0.26367188, -0.06152344,  0.36132812,  0.28125   ,\n",
       "       -0.03857422,  0.01745605, -0.13183594, -0.07470703, -0.16113281,\n",
       "       -0.0703125 , -0.07128906,  0.12988281, -0.37695312, -0.02526855,\n",
       "        0.03027344,  0.08203125, -0.08544922,  0.21679688, -0.0300293 ,\n",
       "       -0.23535156,  0.06298828, -0.13671875, -0.59765625, -0.10839844,\n",
       "       -0.19238281,  0.06176758,  0.20605469,  0.24121094,  0.00518799,\n",
       "       -0.27734375,  0.04077148, -0.02941895, -0.21386719,  0.0255127 ,\n",
       "       -0.30078125,  0.10742188,  0.02490234,  0.04833984, -0.19921875,\n",
       "       -0.06494141, -0.11474609,  0.12060547, -0.15136719, -0.04394531,\n",
       "       -0.01867676, -0.22558594,  0.01855469, -0.15917969, -0.00314331,\n",
       "       -0.04663086, -0.21191406, -0.00946045, -0.11523438, -0.12792969,\n",
       "       -0.21679688,  0.19628906,  0.20800781, -0.12890625, -0.02172852,\n",
       "        0.41210938, -0.03295898, -0.06591797, -0.10351562, -0.08300781,\n",
       "       -0.04516602,  0.1171875 , -0.09765625,  0.04907227,  0.01074219,\n",
       "        0.11083984,  0.02404785, -0.01757812, -0.07324219, -0.0189209 ,\n",
       "       -0.36132812,  0.11962891, -0.18847656,  0.3359375 ,  0.09228516,\n",
       "        0.140625  ,  0.00927734, -0.10351562,  0.00218201,  0.19042969,\n",
       "        0.20996094,  0.25195312, -0.02819824,  0.07666016,  0.1796875 ,\n",
       "        0.22851562,  0.02282715, -0.18261719, -0.00747681,  0.1640625 ,\n",
       "       -0.03125   ,  0.04663086,  0.05004883,  0.27148438,  0.36132812,\n",
       "       -0.25195312, -0.10205078,  0.27929688, -0.07373047,  0.04711914,\n",
       "        0.20703125, -0.01342773, -0.10546875, -0.05004883, -0.05444336,\n",
       "        0.16503906,  0.14648438,  0.10400391, -0.17578125, -0.00065613,\n",
       "       -0.09960938,  0.11035156,  0.25585938,  0.08740234,  0.18164062,\n",
       "       -0.37695312, -0.12353516, -0.29492188, -0.13574219, -0.21777344,\n",
       "        0.0100708 ,  0.15039062, -0.08251953, -0.00285339, -0.06884766,\n",
       "       -0.17578125, -0.02258301, -0.05664062, -0.10498047, -0.08789062,\n",
       "        0.03198242,  0.25195312, -0.0534668 ,  0.1328125 ,  0.20410156,\n",
       "       -0.03881836,  0.02246094, -0.02319336, -0.14648438,  0.11962891,\n",
       "       -0.03320312,  0.06738281, -0.29296875,  0.05761719,  0.07714844,\n",
       "        0.06225586,  0.04638672,  0.14160156, -0.10351562,  0.28320312,\n",
       "        0.03662109, -0.09814453, -0.07910156,  0.23144531,  0.09130859,\n",
       "       -0.06079102, -0.03662109, -0.22265625,  0.14453125,  0.12695312],\n",
       "      dtype=float32)"
      ]
     },
     "execution_count": 3,
     "metadata": {},
     "output_type": "execute_result"
    }
   ],
   "source": [
    "model['delicious']"
   ]
  },
  {
   "cell_type": "markdown",
   "metadata": {},
   "source": [
    "### Words that appear in similar contexts have a small distance"
   ]
  },
  {
   "cell_type": "code",
   "execution_count": 4,
   "metadata": {},
   "outputs": [
    {
     "data": {
      "text/plain": [
       "0.33363431692123413"
      ]
     },
     "execution_count": 4,
     "metadata": {},
     "output_type": "execute_result"
    }
   ],
   "source": [
    "model.distance('manager', 'director')"
   ]
  },
  {
   "cell_type": "markdown",
   "metadata": {},
   "source": [
    "### Words that appear in dissimilar contexts have a large distance"
   ]
  },
  {
   "cell_type": "code",
   "execution_count": 5,
   "metadata": {},
   "outputs": [
    {
     "data": {
      "text/plain": [
       "0.8854579925537109"
      ]
     },
     "execution_count": 5,
     "metadata": {},
     "output_type": "execute_result"
    }
   ],
   "source": [
    "model.distance('math', 'romance')"
   ]
  },
  {
   "cell_type": "markdown",
   "metadata": {},
   "source": [
    "## Clustering Words"
   ]
  },
  {
   "cell_type": "code",
   "execution_count": 6,
   "metadata": {},
   "outputs": [],
   "source": [
    "import numpy as np\n",
    "from sklearn.decomposition import PCA\n",
    "import matplotlib.pyplot as plt"
   ]
  },
  {
   "cell_type": "code",
   "execution_count": 7,
   "metadata": {},
   "outputs": [],
   "source": [
    "words = ['france', 'spain', 'germany', 'italy',\n",
    "         'director', 'ceo', 'executive', 'manager',\n",
    "         'shirt', 'pants', 'sweater', 'hat',\n",
    "         'congress', 'law', 'representatives', 'judge']"
   ]
  },
  {
   "cell_type": "markdown",
   "metadata": {},
   "source": [
    "### Convert words to their 300 dimensional representation"
   ]
  },
  {
   "cell_type": "code",
   "execution_count": 8,
   "metadata": {},
   "outputs": [],
   "source": [
    "word_vectors_300d = np.array([model[word] for word in words])"
   ]
  },
  {
   "cell_type": "markdown",
   "metadata": {},
   "source": [
    "### \"Project\" 300 dimensions into 2D to make it easy to visualize"
   ]
  },
  {
   "cell_type": "code",
   "execution_count": 9,
   "metadata": {},
   "outputs": [],
   "source": [
    "word_vectors_2d = PCA(n_components=2).fit_transform(word_vectors_300d)"
   ]
  },
  {
   "cell_type": "code",
   "execution_count": 10,
   "metadata": {},
   "outputs": [
    {
     "data": {
      "image/png": "[encoded data removed]",
      "text/plain": [
       "<Figure size 720x720 with 1 Axes>"
      ]
     },
     "metadata": {
      "needs_background": "light"
     },
     "output_type": "display_data"
    }
   ],
   "source": [
    "plt.figure(figsize=(10, 10))\n",
    "\n",
    "for i in range(len(words)):\n",
    "    x = word_vectors_2d[i][0]\n",
    "    y = word_vectors_2d[i][1]\n",
    "    plt.plot(x, y, 'ro')\n",
    "    plt.text(x, y, words[i])"
   ]
  }
 ],
 "metadata": {
  "kernelspec": {
   "display_name": "Python 3",
   "language": "python",
   "name": "python3"
  },
  "language_info": {
   "codemirror_mode": {
    "name": "ipython",
    "version": 3
   },
   "file_extension": ".py",
   "mimetype": "text/x-python",
   "name": "python",
   "nbconvert_exporter": "python",
   "pygments_lexer": "ipython3",
   "version": "3.7.3"
  }
 },
 "nbformat": 4,
 "nbformat_minor": 4
}
